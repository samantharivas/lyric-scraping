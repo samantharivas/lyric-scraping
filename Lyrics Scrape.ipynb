{
 "cells": [
  {
   "cell_type": "markdown",
   "id": "95952cac",
   "metadata": {},
   "source": [
    "# ADS 509 Module 1: APIs and Web Scraping\n",
    "\n",
    "This notebook has two parts. In the first part, you will scrape lyrics from AZLyrics.com. In the second part, you'll run code that verifies the completeness of your data pull. \n",
    "\n",
    "For this assignment you have chosen two musical artists who have at least 20 songs with lyrics on AZLyrics.com. We start with pulling some information and analyzing them.\n"
   ]
  },
  {
   "cell_type": "markdown",
   "id": "069b7ae8",
   "metadata": {},
   "source": [
    "## General Assignment Instructions\n",
    "\n",
    "These instructions are included in every assignment, to remind you of the coding standards for the class. Feel free to delete this cell after reading it. \n",
    "\n",
    "One sign of mature code is conforming to a style guide. We recommend the [Google Python Style Guide](https://google.github.io/styleguide/pyguide.html). If you use a different style guide, please include a cell with a link. \n",
    "\n",
    "Your code should be relatively easy-to-read, sensibly commented, and clean. Writing code is a messy process, so please be sure to edit your final submission. Remove any cells that are not needed or parts of cells that contain unnecessary code. Remove inessential `import` statements and make sure that all such statements are moved into the designated cell. \n",
    "\n",
    "Make use of non-code cells for written commentary. These cells should be grammatical and clearly written. In some of these cells you will have questions to answer. The questions will be marked by a \"Q:\" and will have a corresponding \"A:\" spot for you. *Make sure to answer every question marked with a `Q:` for full credit.* \n"
   ]
  },
  {
   "cell_type": "markdown",
   "id": "91c8969e",
   "metadata": {},
   "source": [
    "# Importing Libraries"
   ]
  },
  {
   "cell_type": "code",
   "execution_count": 1,
   "id": "185076b0",
   "metadata": {},
   "outputs": [],
   "source": [
    "import os\n",
    "import datetime\n",
    "import re\n",
    "\n",
    "# for the lyrics scrape section\n",
    "import requests\n",
    "import time\n",
    "from bs4 import BeautifulSoup\n",
    "from collections import defaultdict, Counter\n",
    "import random"
   ]
  },
  {
   "cell_type": "code",
   "execution_count": 2,
   "id": "a47e2d5f",
   "metadata": {},
   "outputs": [],
   "source": [
    "# Use this cell for any import statements you add\n",
    "import shutil "
   ]
  },
  {
   "cell_type": "markdown",
   "id": "45c13af3",
   "metadata": {},
   "source": [
    "---\n",
    "\n",
    "# Lyrics Scrape\n",
    "\n",
    "This section asks you to pull data by scraping www.AZLyrics.com. In the notebooks where you do that work you are asked to store the data in specific ways. "
   ]
  },
  {
   "cell_type": "code",
   "execution_count": 3,
   "id": "5bd7df77",
   "metadata": {},
   "outputs": [],
   "source": [
    "artists = {'feid':\"https://www.azlyrics.com/f/feid.html\",\n",
    "           'arcangel':\"https://www.azlyrics.com/a/arcangel.html\"} \n",
    "# we'll use this dictionary to hold both the artist name and the link on AZlyrics"
   ]
  },
  {
   "cell_type": "markdown",
   "id": "c236c99b",
   "metadata": {},
   "source": [
    "## A Note on Rate Limiting\n",
    "\n",
    "The lyrics site, www.azlyrics.com, does not have an explicit maximum on number of requests in any one time, but in our testing it appears that too many requests in too short a time will cause the site to stop returning lyrics pages. (Entertainingly, the page that gets returned seems to only have the song title to [a Tom Jones song](https://www.azlyrics.com/lyrics/tomjones/itsnotunusual.html).) \n",
    "\n",
    "Whenever you call `requests.get` to retrieve a page, put a `time.sleep(5 + 10*random.random())` on the next line. This will help you not to get blocked. If you _do_ get blocked, which you can identify if the returned pages are not correct, just request a lyrics page through your browser. You'll be asked to perform a CAPTCHA and then your requests should start working again. \n",
    "\n",
    "## Part 1: Finding Links to Songs Lyrics\n",
    "\n",
    "That general artist page has a list of all songs for that artist with links to the individual song pages. \n",
    "\n",
    "Q: Take a look at the `robots.txt` page on www.azlyrics.com. (You can read more about these pages [here](https://developers.google.com/search/docs/advanced/robots/intro).) Is the scraping we are about to do allowed or disallowed by this page? How do you know? \n",
    "\n",
    "A: <!-- Delete this comment and put your answer here. --> \n"
   ]
  },
  {
   "cell_type": "code",
   "execution_count": 4,
   "id": "ac9d31ec",
   "metadata": {},
   "outputs": [
    {
     "name": "stdout",
     "output_type": "stream",
     "text": [
      "Artist: feid, Links: ['/lyrics/feid/morena.html', '/lyrics/feid/otranoche.html', '/lyrics/feid/situquieres.html', '/lyrics/feid/sienteme.html', '/lyrics/feid/lunallena.html', '/lyrics/feid/magnifica.html', '/lyrics/feid/siellasupiera.html', '/lyrics/feid/ayer.html', '/lyrics/feid/sitevas.html', '/lyrics/feid/sorpresas.html', '/lyrics/feid/matando.html', '/lyrics/feid/dime.html', '/lyrics/feid/911.html', '/lyrics/feid/completa.html', '/lyrics/feid/lluvia.html', '/lyrics/feid/mazucamba.html', '/lyrics/feid/tcticas.html', '/lyrics/feid/peculiar.html', '/lyrics/feid/ahora.html', '/lyrics/feid/sifuerafcil.html', '/lyrics/feid/sidemteenamoras.html', '/lyrics/feid/sos.html', '/lyrics/feid/comot.html', '/lyrics/feid/morena.html', '/lyrics/feid/queraro.html', '/lyrics/feid/larespuesta.html', '/lyrics/feid/dembowpopsexytropical.html', '/lyrics/feid/buenamala.html', '/lyrics/feid/badwine.html', '/lyrics/feid/quiero.html', '/lyrics/feid/sguemeremix.html', '/lyrics/feid/subiendo.html', '/lyrics/feid/venpacasa.html', '/lyrics/feid/fku.html', '/lyrics/feid/ron.html', '/lyrics/feid/venpacasargt.html', '/lyrics/feid/trampa.html', '/lyrics/feid/contubody.html', '/lyrics/feid/xx.html', '/lyrics/feid/ateo.html', '/lyrics/feid/xxremix.html', '/lyrics/feid/xntxs.html', '/lyrics/feid/freshkerias.html', '/lyrics/feid/porfa.html', '/lyrics/feid/borraxxa.html', '/lyrics/feid/cuuuuux.html', '/lyrics/feid/x19x.html', '/lyrics/feid/relxjxte.html', '/lyrics/feid/videitoxx.html', '/lyrics/feid/excxsxs.html', '/lyrics/feid/morxx.html', '/lyrics/feid/elcuartodeferxxo.html', '/lyrics/feid/txvxs.html', '/lyrics/feid/perreoxoxo.html', '/lyrics/feid/avxntadxr.html', '/lyrics/feid/enemigos.html', '/lyrics/feid/fotografias.html', '/lyrics/feid/jamaica.html', '/lyrics/feid/breakup.html', '/lyrics/feid/queputas.html', '/lyrics/feid/ferxxoxnejo.html', '/lyrics/feid/xxremix.html', '/lyrics/feid/nea.html', '/lyrics/feid/otravez.html', '/lyrics/feid/porfaremix.html', '/lyrics/feid/corone.html', '/lyrics/feid/chimbita.html', '/lyrics/feid/tengofe.html', '/lyrics/feid/comocuando.html', '/lyrics/feid/jordaniv.html', '/lyrics/feid/fumeteo.html', '/lyrics/feid/purritoapa.html', '/lyrics/feid/xxxx.html', '/lyrics/feid/ferxxovi.html', '/lyrics/feid/hulu.html', '/lyrics/feid/hectol.html', '/lyrics/feid/elpadrino.html', '/lyrics/feid/temata.html', '/lyrics/feid/14defebrero.html', '/lyrics/feid/situsupieras.html', '/lyrics/feid/vacaxiones.html', '/lyrics/feid/friki.html', '/lyrics/feid/monastery.html', '/lyrics/feid/comment.html', '/lyrics/feid/8diax.html', '/lyrics/feid/rudeboyz.html', '/lyrics/feid/amordemivida.html', '/lyrics/feid/fumeteoremix.html', '/lyrics/feid/mioncaalbloque.html', '/lyrics/feid/intro.html', '/lyrics/feid/castigo.html', '/lyrics/feid/felizcumpleanosferxxo.html', '/lyrics/feid/nieve.html', '/lyrics/feid/ferxxo100.html', '/lyrics/feid/belixe.html', '/lyrics/feid/xqteponesasi.html', '/lyrics/feid/duchitaxxxxxxxx.html', '/lyrics/feid/prohibidox.html', '/lyrics/feid/ladymiamor.html', '/lyrics/feid/quemandocalorias.html', '/lyrics/feid/aguante.html', '/lyrics/feid/sitelaencuentrasporahi.html', '/lyrics/feid/normal.html', '/lyrics/feid/labuenafai.html', '/lyrics/feid/lapasamoscxbrxn.html', '/lyrics/feid/chorritopalasanimas.html', '/lyrics/feid/malibu.html', '/lyrics/feid/california.html', '/lyrics/feid/hookia.html', '/lyrics/feid/lepidoadios.html', '/lyrics/feid/vol2.html', '/lyrics/feid/venteconmigo.html', '/lyrics/feid/ninabonita.html', '/lyrics/feid/gangstersypistolas.html', '/lyrics/feid/ferxxo151.html', '/lyrics/feid/bubalu.html', '/lyrics/feid/ritmodemedallo.html', '/lyrics/feid/ferxxoedition.html', '/lyrics/feid/nxtxsientassolx.html', '/lyrics/feid/lucesdetecno.html', '/lyrics/feid/eychory.html', '/lyrics/feid/velocidadcrucero.html', '/lyrics/feid/romanticosdelunes.html', '/lyrics/feid/elunicotemadelferxxo.html', '/lyrics/feid/privilegios.html', '/lyrics/feid/ferxxo30.html', '/lyrics/feid/alakran.html', '/lyrics/feid/50palos.html', '/lyrics/feid/lavuelta.html', '/lyrics/feid/cualesesa.html', '/lyrics/feid/interlude.html', '/lyrics/feid/luna.html', '/lyrics/feid/esquirla.html', '/lyrics/feid/desquite.html', '/lyrics/feid/yoak.html', '/lyrics/feid/classy101.html', '/lyrics/feid/fecha.html', '/lyrics/feid/denegro.html', '/lyrics/feid/brickell.html', '/lyrics/feid/nodigasna.html', '/lyrics/feid/pajanguiar.html', '/lyrics/feid/7chamadas.html', '/lyrics/feid/badwineextendedremix.html', '/lyrics/feid/badwineremix.html', '/lyrics/feid/besame.html', '/lyrics/feid/comonengo.html', '/lyrics/feid/confesion.html', '/lyrics/feid/conmigo.html', '/lyrics/feid/detantochimbiar.html', '/lyrics/feid/elcielo.html', '/lyrics/feid/enladeella.html', '/lyrics/feid/fanatico.html', '/lyrics/feid/gotitasalviento.html', '/lyrics/feid/hombresymujeres.html', '/lyrics/feid/juegas.html', '/lyrics/feid/larespuestaversionsalsa.html', '/lyrics/feid/laultimavez.html', '/lyrics/feid/lecreo.html', '/lyrics/feid/lloripari.html', '/lyrics/feid/mentedana.html', '/lyrics/feid/mxfixg5.html', '/lyrics/feid/noescasualidad.html', '/lyrics/feid/nuestracancin.html', '/lyrics/feid/pantysito.html', '/lyrics/feid/perfecta.html', '/lyrics/feid/polarisremix.html', '/lyrics/feid/quatro.html', '/lyrics/feid/remixexclusivo.html', '/lyrics/feid/sgueme.html', '/lyrics/feid/suenosperdidosremix.html', '/lyrics/feid/vip.html', '/lyrics/feid/wuwu.html']\n",
      "Artist: arcangel, Links: ['/lyrics/arcangel/introslido.html', '/lyrics/arcangel/quierefuego.html', '/lyrics/arcangel/laamenazalirical.html', '/lyrics/arcangel/queseactiven.html', '/lyrics/arcangel/mesolt.html', '/lyrics/arcangel/traficando.html', '/lyrics/arcangel/mirala.html', '/lyrics/arcangel/siteveo.html', '/lyrics/arcangel/nomeronque.html', '/lyrics/arcangel/elleon.html', '/lyrics/arcangel/vmonosenunviaje.html', '/lyrics/arcangel/nosesifue.html', '/lyrics/arcangel/temueres.html', '/lyrics/arcangel/imamurderer.html', '/lyrics/arcangel/vamonosenunviajeremix.html', '/lyrics/arcangel/mylady.html', '/lyrics/arcangel/duele.html', '/lyrics/arcangel/cosanostra.html', '/lyrics/arcangel/sientanlapresin.html', '/lyrics/arcangel/mamipgate.html', '/lyrics/arcangel/voyamatarlos.html', '/lyrics/arcangel/traficando.html', '/lyrics/arcangel/sientanlapresin.html', '/lyrics/arcangel/bravaenlacama.html', '/lyrics/arcangel/llegoelelegendario.html', '/lyrics/arcangel/mujermaravillosa.html', '/lyrics/arcangel/humildon.html', '/lyrics/arcangel/picheale.html', '/lyrics/arcangel/duele.html', '/lyrics/arcangel/mirala.html', '/lyrics/arcangel/quierefuego.html', '/lyrics/arcangel/solarenaremix.html', '/lyrics/arcangel/tunolemetes.html', '/lyrics/arcangel/quisierahablartereggaetonversionoficial.html', '/lyrics/arcangel/elbootyrankiaooficialremix.html', '/lyrics/arcangel/ireallymeanit.html', '/lyrics/arcangel/chicavirtual.html', '/lyrics/arcangel/mujermaravillosa.html', '/lyrics/arcangel/vidaloca.html', '/lyrics/arcangel/slido.html', '/lyrics/arcangel/paraquevolver.html', '/lyrics/arcangel/aparentemente.html', '/lyrics/arcangel/meenloquecebailando.html', '/lyrics/arcangel/mifantica.html', '/lyrics/arcangel/bonita.html', '/lyrics/arcangel/tuamorremix.html', '/lyrics/arcangel/venpgate.html', '/lyrics/arcangel/nosesifue.html', '/lyrics/arcangel/sorpresaremix.html', '/lyrics/arcangel/siteveoenelparty.html', '/lyrics/arcangel/lacalle.html', '/lyrics/arcangel/soyelmejor.html', '/lyrics/arcangel/enelcallejn.html', '/lyrics/arcangel/dedicadaatempo.html', '/lyrics/arcangel/funeralmasacreapolaco.html', '/lyrics/arcangel/elbooty.html', '/lyrics/arcangel/pistoln.html', '/lyrics/arcangel/sabebueno.html', '/lyrics/arcangel/toma.html', '/lyrics/arcangel/quecomiencelaaccion.html', '/lyrics/arcangel/actvate.html', '/lyrics/arcangel/paquelapasesbien.html', '/lyrics/arcangel/nopuedenconelchamaquito.html', '/lyrics/arcangel/ellaesunabravaenlacama.html', '/lyrics/arcangel/mamipgate.html', '/lyrics/arcangel/tefalta.html', '/lyrics/arcangel/dondeestn.html', '/lyrics/arcangel/esagatatieneflow.html', '/lyrics/arcangel/segueta.html', '/lyrics/arcangel/mesientosolo.html', '/lyrics/arcangel/historiadeamor.html', '/lyrics/arcangel/unamorcomot.html', '/lyrics/arcangel/algomusical.html', '/lyrics/arcangel/amares.html', '/lyrics/arcangel/meheenamoradodeti.html', '/lyrics/arcangel/feliznavidad.html', '/lyrics/arcangel/intro.html', '/lyrics/arcangel/meheenamoradodeti.html', '/lyrics/arcangel/tefalta.html', '/lyrics/arcangel/qumicasustancia.html', '/lyrics/arcangel/historiadeamor.html', '/lyrics/arcangel/vamosenunviajesisi.html', '/lyrics/arcangel/paquelapasesbien.html', '/lyrics/arcangel/nopuedenconelchamaquito.html', '/lyrics/arcangel/campeando.html', '/lyrics/arcangel/squevasaquerer.html', '/lyrics/arcangel/tengotantasganas.html', '/lyrics/arcangel/mtele.html', '/lyrics/arcangel/pontepam.html', '/lyrics/arcangel/ahehintro.html', '/lyrics/arcangel/poramaraciegas.html', '/lyrics/arcangel/lnosevaaenterar.html', '/lyrics/arcangel/piensoenti.html', '/lyrics/arcangel/dementebailando.html', '/lyrics/arcangel/agresivo3.html', '/lyrics/arcangel/tabuenoelambiente.html', '/lyrics/arcangel/igotflow.html', '/lyrics/arcangel/fuistetquienperdi.html', '/lyrics/arcangel/yoteenseo.html', '/lyrics/arcangel/nadamalo.html', '/lyrics/arcangel/aprovechaeltiempo.html', '/lyrics/arcangel/enamoradodeti.html', '/lyrics/arcangel/qumicasustancia.html', '/lyrics/arcangel/paquelapasesbien.html', '/lyrics/arcangel/si.html', '/lyrics/arcangel/ganasdeti.html', '/lyrics/arcangel/miprimeracancin.html', '/lyrics/arcangel/chicavirtual.html', '/lyrics/arcangel/segueta.html', '/lyrics/arcangel/slido.html', '/lyrics/arcangel/nosesifue.html', '/lyrics/arcangel/chicavirtual.html', '/lyrics/arcangel/mujermaravillosa.html', '/lyrics/arcangel/vidaloca.html', '/lyrics/arcangel/actvate.html', '/lyrics/arcangel/sientanlapresin.html', '/lyrics/arcangel/bonita.html', '/lyrics/arcangel/enlacalle.html', '/lyrics/arcangel/tiraerapolaco.html', '/lyrics/arcangel/tratadodepaz.html', '/lyrics/arcangel/volvidenuevo.html', '/lyrics/arcangel/sitepegas.html', '/lyrics/arcangel/hablandoclaro.html', '/lyrics/arcangel/seva.html', '/lyrics/arcangel/noquieroquemedigasqueno.html', '/lyrics/arcangel/definitivamente.html', '/lyrics/arcangel/sentimiento.html', '/lyrics/arcangel/interesadas.html', '/lyrics/arcangel/descansaenpazchino.html', '/lyrics/arcangel/nopueden.html', '/lyrics/arcangel/seorita.html', '/lyrics/arcangel/armadosypeligrosos.html', '/lyrics/arcangel/ellamemotiva.html', '/lyrics/arcangel/volvidenuevo.html', '/lyrics/arcangel/vamospalcarro.html', '/lyrics/arcangel/caliente.html', '/lyrics/arcangel/comotumetocas.html', '/lyrics/arcangel/regalameunanoche.html', '/lyrics/arcangel/quierodecirte.html', '/lyrics/arcangel/ellaquierepopo.html', '/lyrics/arcangel/victima.html', '/lyrics/arcangel/wowbellaquita.html', '/lyrics/arcangel/tratadodepaz.html', '/lyrics/arcangel/imagnate.html', '/lyrics/arcangel/enlaintimidad.html', '/lyrics/arcangel/pielcanela.html', '/lyrics/arcangel/lomismosientoyo.html', '/lyrics/arcangel/seva.html', '/lyrics/arcangel/chupopsito.html', '/lyrics/arcangel/monarcadelosmares.html', '/lyrics/arcangel/mundodecolores.html', '/lyrics/arcangel/lomoescantar.html', '/lyrics/arcangel/todotienefinal.html', '/lyrics/arcangel/sitnoestas.html', '/lyrics/arcangel/pendientealosuyo.html', '/lyrics/arcangel/tengodinero.html', '/lyrics/arcangel/comoyotehagoelamor.html', '/lyrics/arcangel/manifistatebailando.html', '/lyrics/arcangel/mivozmiestiloymiflow.html', '/lyrics/arcangel/panamiur.html', '/lyrics/arcangel/dimelaverdadlosmetalicoz.html', '/lyrics/arcangel/outro.html', '/lyrics/arcangel/diostebendiga.html', '/lyrics/arcangel/hacemuchotiempo.html', '/lyrics/arcangel/contigoquieroamores.html', '/lyrics/arcangel/sola.html', '/lyrics/arcangel/irabuscarte.html', '/lyrics/arcangel/gucciboysclub.html', '/lyrics/arcangel/cuandotunoestas.html', '/lyrics/arcangel/comotienequeser.html', '/lyrics/arcangel/pakasde100.html', '/lyrics/arcangel/sem.html', '/lyrics/arcangel/diferente.html', '/lyrics/arcangel/ayerescucheunavoz.html', '/lyrics/arcangel/memyselfmymoney.html', '/lyrics/arcangel/queleden.html', '/lyrics/arcangel/lellegodondesea.html', '/lyrics/arcangel/lentamente.html', '/lyrics/arcangel/tieneunpiquete.html', '/lyrics/arcangel/porlaplatabailaelmono.html', '/lyrics/arcangel/lallavedemicorazon.html', '/lyrics/arcangel/miotramitad.html', '/lyrics/arcangel/losfavoritos.html', '/lyrics/arcangel/pensndote.html', '/lyrics/arcangel/soltera.html', '/lyrics/arcangel/50sombrasdeaustin.html', '/lyrics/arcangel/imagnate.html', '/lyrics/arcangel/decdete.html', '/lyrics/arcangel/mspiquetequeyo.html', '/lyrics/arcangel/slot.html', '/lyrics/arcangel/nadie.html', '/lyrics/arcangel/purasensualidad.html', '/lyrics/arcangel/laloca.html', '/lyrics/arcangel/palmuro.html', '/lyrics/arcangel/elfavoritodetugata.html', '/lyrics/arcangel/chikiribn.html', '/lyrics/arcangel/vacilaryjoder.html', '/lyrics/arcangel/mamiquttienes.html', '/lyrics/arcangel/tucuerpomehacebien.html', '/lyrics/arcangel/soydueo.html', '/lyrics/arcangel/atmsfera.html', '/lyrics/arcangel/sesupone.html', '/lyrics/arcangel/original.html', '/lyrics/arcangel/datecuenta.html', '/lyrics/arcangel/miprimerkilo.html', '/lyrics/arcangel/corteporteyelegancia.html', '/lyrics/arcangel/los3.html', '/lyrics/arcangel/megusta.html', '/lyrics/arcangel/victoria.html', '/lyrics/arcangel/ensuboca.html', '/lyrics/arcangel/pamorirsenace.html', '/lyrics/arcangel/delarenta.html', '/lyrics/arcangel/loquesea.html', '/lyrics/arcangel/piernasenelaire.html', '/lyrics/arcangel/unvaciln.html', '/lyrics/arcangel/caribbeanair.html', '/lyrics/arcangel/balancate.html', '/lyrics/arcangel/elgranjero.html', '/lyrics/arcangel/mitestimonio893615.html', '/lyrics/arcangel/alvolante.html', '/lyrics/arcangel/rehen.html', '/lyrics/arcangel/pontebonita.html', '/lyrics/arcangel/infeliz.html', '/lyrics/arcangel/videollamada.html', '/lyrics/arcangel/doblecara.html', '/lyrics/arcangel/habitos.html', '/lyrics/arcangel/llenamedeluz.html', '/lyrics/arcangel/nosalgodecasa.html', '/lyrics/arcangel/siguesconel.html', '/lyrics/arcangel/capricornio.html', '/lyrics/arcangel/teesperare.html', '/lyrics/arcangel/invicto.html', '/lyrics/arcangel/payaso.html', '/lyrics/arcangel/amantesyamigos.html', '/lyrics/arcangel/satisfaccinlos.html', '/lyrics/arcangel/sigasmoviendo.html', '/lyrics/arcangel/normal.html', '/lyrics/arcangel/unanotarde.html', '/lyrics/arcangel/aparentemente2.html', '/lyrics/arcangel/emiliogloria.html', '/lyrics/arcangel/noseenamora.html', '/lyrics/arcangel/elbuenoelmalo.html', '/lyrics/arcangel/matarsesolita.html', '/lyrics/arcangel/pilonea.html', '/lyrics/arcangel/frio.html', '/lyrics/arcangel/todoslaconocen.html', '/lyrics/arcangel/seportamal.html', '/lyrics/arcangel/tussi.html', '/lyrics/arcangel/elfavorito.html', '/lyrics/arcangel/siguesconelremix.html', '/lyrics/arcangel/flowviolento.html', '/lyrics/arcangel/siteveo1139427.html', '/lyrics/arcangel/consusb.html', '/lyrics/arcangel/hijuepu.html', '/lyrics/arcangel/insegura.html', '/lyrics/arcangel/mia.html', '/lyrics/arcangel/nadeeso.html', '/lyrics/arcangel/todocaro.html', '/lyrics/arcangel/enfermo.html', '/lyrics/arcangel/noquierenovio.html', '/lyrics/arcangel/caposybichotes.html', '/lyrics/arcangel/escomplicado.html', '/lyrics/arcangel/nohayperdon.html', '/lyrics/arcangel/nintendo.html', '/lyrics/arcangel/batmanencanam.html', '/lyrics/arcangel/js4e.html', '/lyrics/arcangel/portobello.html', '/lyrics/arcangel/lajumpa.html', '/lyrics/arcangel/laroca.html', '/lyrics/arcangel/bottas.html', '/lyrics/arcangel/subimosdeprecio.html', '/lyrics/arcangel/digitos.html', '/lyrics/arcangel/notevayas.html', '/lyrics/arcangel/laruta.html', '/lyrics/arcangel/spicycrab.html', '/lyrics/arcangel/papanoel.html', '/lyrics/arcangel/kilimanjaro.html', '/lyrics/arcangel/sprinter.html', '/lyrics/arcangel/denegro.html', '/lyrics/arcangel/entonces.html', '/lyrics/arcangel/fendace.html', '/lyrics/arcangel/sinscotti.html', '/lyrics/arcangel/mmbs.html', '/lyrics/arcangel/glory.html', '/lyrics/arcangel/elpalo.html', '/lyrics/arcangel/megustatuflow.html', '/lyrics/arcangel/pluton.html', '/lyrics/arcangel/alv.html', '/lyrics/arcangel/antoniobanderas.html', '/lyrics/arcangel/rosita.html', '/lyrics/arcangel/losroques.html', '/lyrics/arcangel/psicopata.html', '/lyrics/arcangel/fp.html', '/lyrics/arcangel/quetengoquehacer.html', '/lyrics/arcangel/condado.html', '/lyrics/arcangel/yoshi.html', '/lyrics/arcangel/bali.html', '/lyrics/arcangel/lachamba.html', '/lyrics/arcangel/rapido.html', '/lyrics/arcangel/notienenombreestacancion.html', '/lyrics/arcangel/arca10mil.html', '/lyrics/arcangel/lostiemposcambian.html', '/lyrics/arcangel/3a0.html', '/lyrics/arcangel/aveces.html', '/lyrics/arcangel/andandiciendo.html', '/lyrics/arcangel/austinbaby.html', '/lyrics/arcangel/caradebuena.html', '/lyrics/arcangel/caramelolamaversion.html', '/lyrics/arcangel/cuarentena.html', '/lyrics/arcangel/delenvidiosomerio.html', '/lyrics/arcangel/dinerofacil.html', '/lyrics/arcangel/favoritodeloscaposremix.html', '/lyrics/arcangel/feliznavidad2.html', '/lyrics/arcangel/feliznavidad3.html', '/lyrics/arcangel/feliznavidad4.html', '/lyrics/arcangel/feliznavidad5.html', '/lyrics/arcangel/feliznavidad6.html', '/lyrics/arcangel/feliznavidad7.html', '/lyrics/arcangel/flowcabrn.html', '/lyrics/arcangel/fn8.html', '/lyrics/arcangel/kamehame.html', '/lyrics/arcangel/msqueayer.html', '/lyrics/arcangel/meacostumbre.html', '/lyrics/arcangel/meenamordelaglock.html', '/lyrics/arcangel/mellamas.html', '/lyrics/arcangel/meprefieresami.html', '/lyrics/arcangel/miamiremix.html', '/lyrics/arcangel/millones.html', '/lyrics/arcangel/mojadero.html', '/lyrics/arcangel/narcan.html', '/lyrics/arcangel/nohayamor.html', '/lyrics/arcangel/palotiguerevacano.html', '/lyrics/arcangel/partela.html', '/lyrics/arcangel/pirueta.html', '/lyrics/arcangel/poencima.html', '/lyrics/arcangel/porfin.html', '/lyrics/arcangel/ros.html', '/lyrics/arcangel/seora.html', '/lyrics/arcangel/solteria.html', '/lyrics/arcangel/somosonosomos.html', '/lyrics/arcangel/tacosaltos.html', '/lyrics/arcangel/tocotoco.html', '/lyrics/arcangel/tremendasata.html', '/lyrics/arcangel/tunoviveasi.html', '/lyrics/arcangel/xkittlez.html', '/lyrics/arcangel/yotambin.html']\n"
     ]
    }
   ],
   "source": [
    "# Let's set up a dictionary of lists to hold our links\n",
    "lyrics_pages = defaultdict(list)\n",
    "\n",
    "for artist, artist_page in artists.items() :\n",
    "    # request the page and sleep\n",
    "    r = requests.get(artist_page)\n",
    "    time.sleep(5 + 10*random.random())\n",
    "    \n",
    "    if r.status_code == 200:\n",
    "        # parse HTML content of the page\n",
    "        soup = BeautifulSoup(r.content, 'html.parser')\n",
    "\n",
    "        # find all links on page\n",
    "        links = soup.find_all('a')\n",
    "\n",
    "        # filter the links to get only the ones pointing to lyrics pages\n",
    "        artist_links = []\n",
    "        for link in links:\n",
    "            href = link.get('href', '')\n",
    "            if '/lyrics/' in href and href.endswith('.html') and href.startswith(f\"/lyrics/{artist}/\"):\n",
    "                artist_links.append(href)\n",
    "\n",
    "        # store the links `lyrics_pages` where the key is the artist and the\n",
    "        # value is a list of links.\n",
    "        lyrics_pages[artist] = artist_links\n",
    "    else:\n",
    "        print(f\"Failed to fetch artist page for {artist}\")\n",
    "\n",
    "# print links \n",
    "for artist, links in lyrics_pages.items():\n",
    "    print(f\"Artist: {artist}, Links: {links}\")"
   ]
  },
  {
   "cell_type": "markdown",
   "id": "9c285ec1",
   "metadata": {},
   "source": [
    "Let's make sure we have enough lyrics pages to scrape. "
   ]
  },
  {
   "cell_type": "code",
   "execution_count": 5,
   "id": "ae4cda68",
   "metadata": {},
   "outputs": [],
   "source": [
    "for artist, lp in lyrics_pages.items() :\n",
    "    assert(len(set(lp)) > 20) "
   ]
  },
  {
   "cell_type": "code",
   "execution_count": 6,
   "id": "edca10d6",
   "metadata": {},
   "outputs": [
    {
     "name": "stdout",
     "output_type": "stream",
     "text": [
      "For feid we have 172.\n",
      "The full pull will take for this artist will take 0.48 hours.\n",
      "For arcangel we have 346.\n",
      "The full pull will take for this artist will take 0.96 hours.\n"
     ]
    }
   ],
   "source": [
    "# Let's see how long it's going to take to pull these lyrics \n",
    "# if we're waiting `5 + 10*random.random()` seconds \n",
    "for artist, links in lyrics_pages.items() : \n",
    "    print(f\"For {artist} we have {len(links)}.\")\n",
    "    print(f\"The full pull will take for this artist will take {round(len(links)*10/3600,2)} hours.\")"
   ]
  },
  {
   "cell_type": "markdown",
   "id": "011be6c6",
   "metadata": {},
   "source": [
    "## Part 2: Pulling Lyrics\n",
    "\n",
    "Now that we have the links to our lyrics pages, let's go scrape them! Here are the steps for this part. \n",
    "\n",
    "1. Create an empty folder in our repo called \"lyrics\". \n",
    "1. Iterate over the artists in `lyrics_pages`. \n",
    "1. Create a subfolder in lyrics with the artist's name. For instance, if the artist was Cher you'd have `lyrics/cher/` in your repo.\n",
    "1. Iterate over the pages. \n",
    "1. Request the page and extract the lyrics from the returned HTML file using BeautifulSoup.\n",
    "1. Use the function below, `generate_filename_from_url`, to create a filename based on the lyrics page, then write the lyrics to a text file with that name. \n"
   ]
  },
  {
   "cell_type": "code",
   "execution_count": 7,
   "id": "67693711",
   "metadata": {},
   "outputs": [],
   "source": [
    "def generate_filename_from_link(link) :\n",
    "    \n",
    "    if not link :\n",
    "        return None\n",
    "    \n",
    "    # drop the http or https and the html\n",
    "    name = link.replace(\"https\",\"\").replace(\"http\",\"\")\n",
    "    name = link.replace(\".html\",\"\")\n",
    "\n",
    "    name = name.replace(\"/lyrics/\",\"\")\n",
    "    \n",
    "    # Replace useless chareacters with UNDERSCORE\n",
    "    name = name.replace(\"://\",\"\").replace(\".\",\"_\").replace(\"/\",\"_\")\n",
    "    \n",
    "    # tack on .txt\n",
    "    name = name + \".txt\"\n",
    "    \n",
    "    return(name)\n"
   ]
  },
  {
   "cell_type": "code",
   "execution_count": 8,
   "id": "94a78c78",
   "metadata": {},
   "outputs": [],
   "source": [
    "# Make the lyrics folder here. If you'd like to practice your programming, add functionality \n",
    "# that checks to see if the folder exists. If it does, then use shutil.rmtree to remove it and create a new one.\n",
    "\n",
    "if os.path.isdir(\"lyrics\") : \n",
    "    shutil.rmtree(\"lyrics/\")\n",
    "\n",
    "os.mkdir(\"lyrics\")"
   ]
  },
  {
   "cell_type": "code",
   "execution_count": 9,
   "id": "d655b687",
   "metadata": {},
   "outputs": [
    {
     "name": "stdout",
     "output_type": "stream",
     "text": [
      "Lyrics for feid have been scraped and saved.\n",
      "Lyrics for arcangel have been scraped and saved.\n"
     ]
    }
   ],
   "source": [
    "url_stub = \"https://www.azlyrics.com\" \n",
    "start = time.time()\n",
    "\n",
    "total_pages = 0 \n",
    "\n",
    "for artist, links in lyrics_pages.items():\n",
    "    # 1. Build a subfolder for the artist\n",
    "    artist_folder = os.path.join(\"lyrics\", artist.lower())  \n",
    "    os.makedirs(artist_folder, exist_ok=True)  \n",
    "\n",
    "    # 2. Iterate over the lyrics pages\n",
    "    for link in links:\n",
    "        # 3. Request the lyrics page\n",
    "        r = requests.get(url_stub + link)\n",
    "        time.sleep(5 + 10 * random.random()) \n",
    "        \n",
    "        # Check if the request was successful\n",
    "        if r.status_code == 200:\n",
    "            # 4. Extract the title and lyrics from the page\n",
    "            soup = BeautifulSoup(r.text, 'html.parser')\n",
    "            title = soup.find('h1').text.strip()  \n",
    "            lyrics = soup.find('div', class_='ringtone').text.strip()  \n",
    "\n",
    "            # 5. Write out the title, two returns ('\\n'), and the lyrics\n",
    "            filename = os.path.basename(link) + \".txt\"\n",
    "            filepath = os.path.join(artist_folder, filename)\n",
    "            with open(filepath, 'w') as file:\n",
    "                file.write(title + '\\n\\n' + lyrics)\n",
    "        else:\n",
    "            print(f\"Failed to fetch lyrics for {title} from {link}\")\n",
    "\n",
    "    print(f\"Lyrics for {artist} have been scraped and saved.\")"
   ]
  },
  {
   "cell_type": "code",
   "execution_count": 10,
   "id": "36c394f1",
   "metadata": {},
   "outputs": [
    {
     "name": "stdout",
     "output_type": "stream",
     "text": [
      "Total run time was 1.58 hours.\n"
     ]
    }
   ],
   "source": [
    "print(f\"Total run time was {round((time.time() - start)/3600,2)} hours.\")"
   ]
  },
  {
   "cell_type": "markdown",
   "id": "054cf14b",
   "metadata": {},
   "source": [
    "---\n",
    "\n",
    "# Evaluation\n",
    "\n",
    "This assignment asks you to pull data by scraping www.AZLyrics.com.  After you have finished the above sections , run all the cells in this notebook. Print this to PDF and submit it, per the instructions."
   ]
  },
  {
   "cell_type": "code",
   "execution_count": 11,
   "id": "217c2b0a",
   "metadata": {},
   "outputs": [],
   "source": [
    "# Simple word extractor from Peter Norvig: https://norvig.com/spell-correct.html\n",
    "def words(text): \n",
    "    return re.findall(r'\\w+', text.lower())"
   ]
  },
  {
   "cell_type": "markdown",
   "id": "37778a1c",
   "metadata": {},
   "source": [
    "## Checking Lyrics \n",
    "\n",
    "The output from your lyrics scrape should be stored in files located in this path from the directory:\n",
    "`/lyrics/[Artist Name]/[filename from URL]`. This code summarizes the information at a high level to help the instructor evaluate your work. "
   ]
  },
  {
   "cell_type": "code",
   "execution_count": 12,
   "id": "bccac29c",
   "metadata": {},
   "outputs": [
    {
     "name": "stdout",
     "output_type": "stream",
     "text": [
      "For feid we have 170 files.\n",
      "For feid we have roughly 676 words, 253 are unique.\n",
      "For arcangel we have 317 files.\n",
      "For arcangel we have roughly 1466 words, 478 are unique.\n"
     ]
    }
   ],
   "source": [
    "artist_folders = os.listdir(\"lyrics/\")\n",
    "artist_folders = [f for f in artist_folders if os.path.isdir(\"lyrics/\" + f)]\n",
    "\n",
    "for artist in artist_folders : \n",
    "    artist_files = os.listdir(\"lyrics/\" + artist)\n",
    "    artist_files = [f for f in artist_files if 'txt' in f or 'csv' in f or 'tsv' in f]\n",
    "\n",
    "    print(f\"For {artist} we have {len(artist_files)} files.\")\n",
    "\n",
    "    artist_words = []\n",
    "\n",
    "    for f_name in artist_files : \n",
    "        with open(\"lyrics/\" + artist + \"/\" + f_name) as infile : \n",
    "            artist_words.extend(words(infile.read()))\n",
    "\n",
    "            \n",
    "    print(f\"For {artist} we have roughly {len(artist_words)} words, {len(set(artist_words))} are unique.\")\n"
   ]
  }
 ],
 "metadata": {
  "kernelspec": {
   "display_name": "Python 3 (ipykernel)",
   "language": "python",
   "name": "python3"
  },
  "language_info": {
   "codemirror_mode": {
    "name": "ipython",
    "version": 3
   },
   "file_extension": ".py",
   "mimetype": "text/x-python",
   "name": "python",
   "nbconvert_exporter": "python",
   "pygments_lexer": "ipython3",
   "version": "3.11.0"
  }
 },
 "nbformat": 4,
 "nbformat_minor": 5
}
